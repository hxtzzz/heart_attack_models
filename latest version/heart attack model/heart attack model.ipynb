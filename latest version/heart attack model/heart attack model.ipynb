{
 "cells": [
  {
   "cell_type": "code",
   "execution_count": 679,
   "metadata": {},
   "outputs": [],
   "source": [
    "import pandas as pd\n",
    "import numpy as np\n",
    "import seaborn as sns\n",
    "import torch\n",
    "import torch.nn as nn\n",
    "import sys\n",
    "from time import time\n",
    "import torch.nn.functional as F\n",
    "from torch.utils.data import DataLoader\n",
    "from torch.utils.data import TensorDataset\n",
    "import matplotlib.pyplot as plt\n",
    "from sklearn.model_selection import train_test_split\n",
    "from sklearn.metrics import accuracy_score, confusion_matrix, classification_report\n",
    "from sklearn.preprocessing import StandardScaler"
   ]
  },
  {
   "cell_type": "code",
   "execution_count": 680,
   "metadata": {},
   "outputs": [
    {
     "data": {
      "text/html": [
       "<div>\n",
       "<style scoped>\n",
       "    .dataframe tbody tr th:only-of-type {\n",
       "        vertical-align: middle;\n",
       "    }\n",
       "\n",
       "    .dataframe tbody tr th {\n",
       "        vertical-align: top;\n",
       "    }\n",
       "\n",
       "    .dataframe thead th {\n",
       "        text-align: right;\n",
       "    }\n",
       "</style>\n",
       "<table border=\"1\" class=\"dataframe\">\n",
       "  <thead>\n",
       "    <tr style=\"text-align: right;\">\n",
       "      <th></th>\n",
       "      <th>age</th>\n",
       "      <th>sex</th>\n",
       "      <th>cp</th>\n",
       "      <th>trtbps</th>\n",
       "      <th>chol</th>\n",
       "      <th>fbs</th>\n",
       "      <th>restecg</th>\n",
       "      <th>thalachh</th>\n",
       "      <th>exng</th>\n",
       "      <th>oldpeak</th>\n",
       "      <th>slp</th>\n",
       "      <th>caa</th>\n",
       "      <th>thall</th>\n",
       "      <th>output</th>\n",
       "    </tr>\n",
       "  </thead>\n",
       "  <tbody>\n",
       "    <tr>\n",
       "      <th>0</th>\n",
       "      <td>63</td>\n",
       "      <td>1</td>\n",
       "      <td>3</td>\n",
       "      <td>145</td>\n",
       "      <td>233</td>\n",
       "      <td>1</td>\n",
       "      <td>0</td>\n",
       "      <td>150</td>\n",
       "      <td>0</td>\n",
       "      <td>2.3</td>\n",
       "      <td>0</td>\n",
       "      <td>0</td>\n",
       "      <td>1</td>\n",
       "      <td>1</td>\n",
       "    </tr>\n",
       "    <tr>\n",
       "      <th>1</th>\n",
       "      <td>37</td>\n",
       "      <td>1</td>\n",
       "      <td>2</td>\n",
       "      <td>130</td>\n",
       "      <td>250</td>\n",
       "      <td>0</td>\n",
       "      <td>1</td>\n",
       "      <td>187</td>\n",
       "      <td>0</td>\n",
       "      <td>3.5</td>\n",
       "      <td>0</td>\n",
       "      <td>0</td>\n",
       "      <td>2</td>\n",
       "      <td>1</td>\n",
       "    </tr>\n",
       "    <tr>\n",
       "      <th>2</th>\n",
       "      <td>41</td>\n",
       "      <td>0</td>\n",
       "      <td>1</td>\n",
       "      <td>130</td>\n",
       "      <td>204</td>\n",
       "      <td>0</td>\n",
       "      <td>0</td>\n",
       "      <td>172</td>\n",
       "      <td>0</td>\n",
       "      <td>1.4</td>\n",
       "      <td>2</td>\n",
       "      <td>0</td>\n",
       "      <td>2</td>\n",
       "      <td>1</td>\n",
       "    </tr>\n",
       "    <tr>\n",
       "      <th>3</th>\n",
       "      <td>56</td>\n",
       "      <td>1</td>\n",
       "      <td>1</td>\n",
       "      <td>120</td>\n",
       "      <td>236</td>\n",
       "      <td>0</td>\n",
       "      <td>1</td>\n",
       "      <td>178</td>\n",
       "      <td>0</td>\n",
       "      <td>0.8</td>\n",
       "      <td>2</td>\n",
       "      <td>0</td>\n",
       "      <td>2</td>\n",
       "      <td>1</td>\n",
       "    </tr>\n",
       "    <tr>\n",
       "      <th>4</th>\n",
       "      <td>57</td>\n",
       "      <td>0</td>\n",
       "      <td>0</td>\n",
       "      <td>120</td>\n",
       "      <td>354</td>\n",
       "      <td>0</td>\n",
       "      <td>1</td>\n",
       "      <td>163</td>\n",
       "      <td>1</td>\n",
       "      <td>0.6</td>\n",
       "      <td>2</td>\n",
       "      <td>0</td>\n",
       "      <td>2</td>\n",
       "      <td>1</td>\n",
       "    </tr>\n",
       "  </tbody>\n",
       "</table>\n",
       "</div>"
      ],
      "text/plain": [
       "   age  sex  cp  trtbps  chol  fbs  restecg  thalachh  exng  oldpeak  slp  \\\n",
       "0   63    1   3     145   233    1        0       150     0      2.3    0   \n",
       "1   37    1   2     130   250    0        1       187     0      3.5    0   \n",
       "2   41    0   1     130   204    0        0       172     0      1.4    2   \n",
       "3   56    1   1     120   236    0        1       178     0      0.8    2   \n",
       "4   57    0   0     120   354    0        1       163     1      0.6    2   \n",
       "\n",
       "   caa  thall  output  \n",
       "0    0      1       1  \n",
       "1    0      2       1  \n",
       "2    0      2       1  \n",
       "3    0      2       1  \n",
       "4    0      2       1  "
      ]
     },
     "execution_count": 680,
     "metadata": {},
     "output_type": "execute_result"
    }
   ],
   "source": [
    "# read .csv by pandas\n",
    "file = 'heart.csv'\n",
    "df = pd.read_csv(file)\n",
    "\n",
    "# check the first 5 lines\n",
    "df.head()"
   ]
  },
  {
   "cell_type": "code",
   "execution_count": 681,
   "metadata": {},
   "outputs": [
    {
     "data": {
      "text/plain": [
       "age         0\n",
       "sex         0\n",
       "cp          0\n",
       "trtbps      0\n",
       "chol        0\n",
       "fbs         0\n",
       "restecg     0\n",
       "thalachh    0\n",
       "exng        0\n",
       "oldpeak     0\n",
       "slp         0\n",
       "caa         0\n",
       "thall       0\n",
       "output      0\n",
       "dtype: int64"
      ]
     },
     "execution_count": 681,
     "metadata": {},
     "output_type": "execute_result"
    }
   ],
   "source": [
    "# check missing values\n",
    "df.isna().sum()"
   ]
  },
  {
   "cell_type": "code",
   "execution_count": 735,
   "metadata": {},
   "outputs": [],
   "source": [
    "# output in dataset is out target to trian,\n",
    "# others are features\n",
    "# transform them to numpy array to use StandardScaler\n",
    "y = df.output.to_numpy()\n",
    "x = df.drop('output', axis=1).to_numpy()"
   ]
  },
  {
   "cell_type": "code",
   "execution_count": 736,
   "metadata": {},
   "outputs": [],
   "source": [
    "# scaler features' values by StandardScaler\n",
    "scaler = StandardScaler().fit(x)\n",
    "x = scaler.transform(x)"
   ]
  },
  {
   "cell_type": "code",
   "execution_count": 737,
   "metadata": {},
   "outputs": [],
   "source": [
    "# split data by 20% of output\n",
    "x_train, x_test, y_train, y_test = train_test_split(x, y, test_size=0.2, stratify=y)"
   ]
  },
  {
   "cell_type": "code",
   "execution_count": 742,
   "metadata": {},
   "outputs": [],
   "source": [
    "# convert two numpy arrays to pytorch dataset\n",
    "def nparrays_to_dataset(x, y):\n",
    "    x = torch.from_numpy(x).float()\n",
    "    y = torch.from_numpy(y).float()\n",
    "    dataset = TensorDataset(x,y)\n",
    "    return dataset\n",
    "\n",
    "train_ds = nparrays_to_dataset(x_train, y_train)\n",
    "test_ds = nparrays_to_dataset(x_test, y_test)"
   ]
  },
  {
   "cell_type": "code",
   "execution_count": 743,
   "metadata": {},
   "outputs": [],
   "source": [
    "# convert dataset to dataloader\n",
    "batch_size = 4\n",
    "train_dl = DataLoader(train_ds, batch_size, shuffle=True)\n",
    "test_dl = DataLoader(test_ds, batch_size, shuffle=False)"
   ]
  },
  {
   "cell_type": "code",
   "execution_count": 744,
   "metadata": {},
   "outputs": [],
   "source": [
    "# model architecture\n",
    "# nn.Module classes 4: 3 hidden layers\n",
    "class BinaryNetwork(nn.Module):\n",
    "    def __init__(self, input_size, output_size):\n",
    "        super().__init__()\n",
    "        self.l1 = nn.Linear(input_size,32)\n",
    "        self.l2 = nn.Linear(32, 16)\n",
    "        self.l3 = nn.Linear(16, 8)\n",
    "        self.out = nn.Linear(8, output_size)\n",
    "        self.dropout = nn.Dropout(p = 0.5)\n",
    "\n",
    "    def forward(self, x):\n",
    "        x = self.l1(x)\n",
    "        x = F.relu(x)\n",
    "        x = self.l2(x)\n",
    "        x = F.relu(x)\n",
    "        x = self.l3(x)\n",
    "        x = F.relu(x)\n",
    "        x = self.out(x)\n",
    "        return torch.sigmoid(x)  # scaling values between 0 and 1"
   ]
  },
  {
   "cell_type": "code",
   "execution_count": 745,
   "metadata": {},
   "outputs": [],
   "source": [
    "# # model architecture\n",
    "# # fully - connected neural network\n",
    "# # nn.Module classes 3: 2 hidden layer\n",
    "# class BinaryNetwork(nn.Module):\n",
    "#     def __init__(self, input_size, output_size):\n",
    "#         super().__init__()\n",
    "#         self.l1 = nn.Linear(input_size, 32)\n",
    "#         self.l2 = nn.Linear(32, 16)\n",
    "#         self.out = nn.Linear(16, output_size)\n",
    "\n",
    "#     def forward(self, x):\n",
    "#         x = self.l1(x)\n",
    "#         x = F.relu(x)\n",
    "#         x = self.l2(x)\n",
    "#         x = F.relu(x)\n",
    "#         x = self.out(x)\n",
    "#         return torch.sigmoid(x)  # scaling values between 0 and 1"
   ]
  },
  {
   "cell_type": "code",
   "execution_count": 746,
   "metadata": {},
   "outputs": [],
   "source": [
    "# # model architecture\n",
    "# # nn.Module classes 2: 1 hidden layer\n",
    "# class BinaryNetwork(nn.Module):\n",
    "#     def __init__(self, input_size, output_size):\n",
    "#         super().__init__()\n",
    "#         self.l1 = nn.Linear(input_size, 32)\n",
    "#         self.out = nn.Linear(32, output_size)\n",
    "\n",
    "#     def forward(self, x):\n",
    "#         x = self.l1(x)\n",
    "#         x = F.relu(x)\n",
    "#         x = self.out(x)\n",
    "#         return torch.sigmoid(x)  # scaling values between 0 and 1"
   ]
  },
  {
   "cell_type": "code",
   "execution_count": 747,
   "metadata": {},
   "outputs": [],
   "source": [
    "# # model architecture\n",
    "# # nn.Module classes 1 : logistic (0 hidden)\n",
    "# class BinaryNetwork(nn.Module):\n",
    "#     def __init__(self, input_size, output_size):\n",
    "#         super().__init__()\n",
    "#         self.l1 = nn.Linear(input_size, output_size)\n",
    "\n",
    "\n",
    "#     def forward(self, x):\n",
    "#         x = self.l1(x)\n",
    "#         return torch.sigmoid(x)  # scaling values between 0 and 1"
   ]
  },
  {
   "cell_type": "code",
   "execution_count": 748,
   "metadata": {},
   "outputs": [
    {
     "data": {
      "text/plain": [
       "BinaryNetwork(\n",
       "  (l1): Linear(in_features=13, out_features=32, bias=True)\n",
       "  (l2): Linear(in_features=32, out_features=16, bias=True)\n",
       "  (l3): Linear(in_features=16, out_features=8, bias=True)\n",
       "  (out): Linear(in_features=8, out_features=1, bias=True)\n",
       "  (dropout): Dropout(p=0.5, inplace=False)\n",
       ")"
      ]
     },
     "execution_count": 748,
     "metadata": {},
     "output_type": "execute_result"
    }
   ],
   "source": [
    "input_size = 13\n",
    "output_size = 1\n",
    "net = BinaryNetwork(input_size, output_size)\n",
    "net"
   ]
  },
  {
   "cell_type": "code",
   "execution_count": 749,
   "metadata": {},
   "outputs": [],
   "source": [
    "loss_function = nn.BCELoss() # Binary Cross Entropy as Loss Function\n",
    "optimizer = torch.optim.Adam(net.parameters(), lr=1e-3, weight_decay = 5e-4) # Adam algorithm is usually the fatest \n",
    "num_epochs = 250"
   ]
  },
  {
   "cell_type": "code",
   "execution_count": 750,
   "metadata": {},
   "outputs": [],
   "source": [
    "def hxt_train(net, train_dl, loss_function, optimizer, num_epochs, loss_list, acc_list):\n",
    "    start = time()\n",
    "    for epoch in range(num_epochs):\n",
    "        epoch_loss = 0\n",
    "        train_acc = 0\n",
    "        for features, target in train_dl:\n",
    "         # zero the parameter gradients\n",
    "            optimizer.zero_grad()\n",
    "\n",
    "             # forward + backward + optimize\n",
    "            out = net(features)\n",
    "            loss = loss_function(out, target.unsqueeze(1))\n",
    "            res = torch.round(out).squeeze()\n",
    "            right = res.eq(target)\n",
    "            for i in range(right.numel()):\n",
    "                if right[i] == True:\n",
    "                    train_acc = train_acc + 1\n",
    "            epoch_loss += loss.item()\n",
    "            loss.backward()\n",
    "            optimizer.step()\n",
    "            \n",
    "        acc = 100 * train_acc / len(train_dl) / train_dl.batch_size\n",
    "        acc_list.append(acc)\n",
    "        # append losses after training a time\n",
    "        loss_list.append(epoch_loss)\n",
    "        if epoch % 10 == 0:\n",
    "            print(f\"Epoch: {epoch}/{num_epochs}, Loss = {loss:.5f}, Acc = {acc:.5f}\")\n",
    "    end = time()\n",
    "    print('Training time: %s Seconds'%(end-start))"
   ]
  },
  {
   "cell_type": "code",
   "execution_count": 751,
   "metadata": {},
   "outputs": [
    {
     "name": "stdout",
     "output_type": "stream",
     "text": [
      "Epoch: 0/250, Loss = 0.68869, Acc = 54.09836\n",
      "Epoch: 10/250, Loss = 0.08443, Acc = 88.52459\n",
      "Epoch: 20/250, Loss = 0.03997, Acc = 92.21311\n",
      "Epoch: 30/250, Loss = 0.09211, Acc = 95.90164\n",
      "Epoch: 40/250, Loss = 0.41965, Acc = 96.31148\n",
      "Epoch: 50/250, Loss = 0.01653, Acc = 97.54098\n",
      "Epoch: 60/250, Loss = 0.00026, Acc = 98.77049\n",
      "Epoch: 70/250, Loss = 0.00006, Acc = 99.18033\n",
      "Epoch: 80/250, Loss = 0.00001, Acc = 99.18033\n",
      "Epoch: 90/250, Loss = 0.00000, Acc = 99.18033\n",
      "Epoch: 100/250, Loss = 0.00423, Acc = 99.18033\n",
      "Epoch: 110/250, Loss = 0.00053, Acc = 99.18033\n",
      "Epoch: 120/250, Loss = 0.00305, Acc = 99.18033\n",
      "Epoch: 130/250, Loss = 0.00332, Acc = 99.18033\n",
      "Epoch: 140/250, Loss = 0.00001, Acc = 99.18033\n",
      "Epoch: 150/250, Loss = 0.00399, Acc = 99.18033\n",
      "Epoch: 160/250, Loss = 0.00001, Acc = 99.18033\n",
      "Epoch: 170/250, Loss = 0.00287, Acc = 99.18033\n",
      "Epoch: 180/250, Loss = 0.00002, Acc = 99.18033\n",
      "Epoch: 190/250, Loss = 0.00856, Acc = 99.18033\n",
      "Epoch: 200/250, Loss = 0.00010, Acc = 99.18033\n",
      "Epoch: 210/250, Loss = 0.00909, Acc = 99.18033\n",
      "Epoch: 220/250, Loss = 0.00190, Acc = 99.18033\n",
      "Epoch: 230/250, Loss = 0.00032, Acc = 99.18033\n",
      "Epoch: 240/250, Loss = 0.00036, Acc = 99.18033\n",
      "Training time: 12.555055856704712 Seconds\n"
     ]
    }
   ],
   "source": [
    "loss_list = []\n",
    "acc_list = []\n",
    "hxt_train(net, train_dl, loss_function,optimizer, num_epochs, loss_list, acc_list)"
   ]
  },
  {
   "cell_type": "code",
   "execution_count": 752,
   "metadata": {},
   "outputs": [
    {
     "data": {
      "image/png": "[encoded data removed]",
      "text/plain": [
       "<Figure size 1152x504 with 1 Axes>"
      ]
     },
     "metadata": {
      "needs_background": "light"
     },
     "output_type": "display_data"
    }
   ],
   "source": [
    "# set default figure size (more in length)\n",
    "plt.rcParams['figure.figsize'] = (16, 7.0)\n",
    "\n",
    "# plot training losses\n",
    "graph_loss = sns.lineplot(x=[x for x in range(0, num_epochs)], y=loss_list)\n",
    "graph_loss.set(title=\"Loss change during training\", xlabel='epoch', ylabel='loss')\n",
    "plt.show()"
   ]
  },
  {
   "cell_type": "code",
   "execution_count": 753,
   "metadata": {},
   "outputs": [
    {
     "data": {
      "image/png": "[encoded data removed]",
      "text/plain": [
       "<Figure size 1152x504 with 1 Axes>"
      ]
     },
     "metadata": {
      "needs_background": "light"
     },
     "output_type": "display_data"
    }
   ],
   "source": [
    "# plot training accuracy\n",
    "graph_acc = sns.lineplot(x=[x for x in range(0, num_epochs)], y=acc_list)\n",
    "graph_acc.set(title=\"Training accuracy change during training\", xlabel='epoch', ylabel='accuracy(%)')\n",
    "plt.show()"
   ]
  },
  {
   "cell_type": "code",
   "execution_count": 754,
   "metadata": {},
   "outputs": [],
   "source": [
    "# evaluate the neural network (test)\n",
    "y_pred_list = []\n",
    "net.eval()\n",
    "with torch.no_grad():\n",
    "    for x, y in test_dl:\n",
    "        output = net(x)\n",
    "        y_pred = torch.round(output)\n",
    "        y_pred_list.append(y_pred)"
   ]
  },
  {
   "cell_type": "code",
   "execution_count": 755,
   "metadata": {},
   "outputs": [
    {
     "name": "stdout",
     "output_type": "stream",
     "text": [
      "              precision    recall  f1-score   support\n",
      "\n",
      "           0       0.72      0.75      0.74        28\n",
      "           1       0.78      0.76      0.77        33\n",
      "\n",
      "    accuracy                           0.75        61\n",
      "   macro avg       0.75      0.75      0.75        61\n",
      "weighted avg       0.76      0.75      0.75        61\n",
      "\n"
     ]
    }
   ],
   "source": [
    "# convert predictions to a list of tensors with 1 dimention\n",
    "y_pred_list = [y.squeeze() for y in y_pred_list]\n",
    "# print measures of neural network prediction quality\n",
    "print(classification_report(y_test, torch.hstack(y_pred_list)))"
   ]
  },
  {
   "cell_type": "code",
   "execution_count": null,
   "metadata": {},
   "outputs": [],
   "source": [
    "torch.save(model, 'net0.92.pt')"
   ]
  },
  {
   "cell_type": "code",
   "execution_count": null,
   "metadata": {},
   "outputs": [],
   "source": []
  }
 ],
 "metadata": {
  "kernelspec": {
   "display_name": "Python 3",
   "language": "python",
   "name": "python3"
  },
  "language_info": {
   "codemirror_mode": {
    "name": "ipython",
    "version": 3
   },
   "file_extension": ".py",
   "mimetype": "text/x-python",
   "name": "python",
   "nbconvert_exporter": "python",
   "pygments_lexer": "ipython3",
   "version": "3.8.5"
  }
 },
 "nbformat": 4,
 "nbformat_minor": 4
}
